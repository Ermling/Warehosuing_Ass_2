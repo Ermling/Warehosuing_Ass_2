{
  "cells": [
    {
      "cell_type": "markdown",
      "metadata": {},
      "source": [
        "# Warehouse Storage Optimization\n",
        "\n",
        "## 1. Storage Location Assignment\n",
        "\n",
        "### Distance Matrix and Weights\n",
        "\n",
        "#### Distance Matrix"
      ]
    },
    {
      "cell_type": "code",
      "execution_count": null,
      "metadata": {},
      "outputs": [],
      "source": []
    },
    {
      "cell_type": "code",
      "execution_count": 1,
      "metadata": {},
      "outputs": [],
      "source": [
        "# Code to calculate distance matrix"
      ]
    },
    {
      "cell_type": "markdown",
      "metadata": {},
      "source": [
        "*Print the distance matrix here.*\n",
        "\n",
        "\n",
        "\n",
        "#### Weights"
      ]
    },
    {
      "cell_type": "code",
      "execution_count": null,
      "metadata": {},
      "outputs": [],
      "source": [
        "# Code to calculate weights matrix"
      ]
    },
    {
      "cell_type": "markdown",
      "metadata": {},
      "source": [
        "### Mathematical Model (SLAP)"
      ]
    },
    {
      "cell_type": "code",
      "execution_count": null,
      "metadata": {},
      "outputs": [],
      "source": [
        "# MIP leading to optimal product-location assignment"
      ]
    },
    {
      "cell_type": "markdown",
      "metadata": {},
      "source": [
        "Example optimal assignment (illustrative only):\n",
        "\n",
        "```\n",
        "Min. travel cost: 42,420\n",
        " ╔═════════════ I/O ═════╦═══════╗\n",
        " ║   A       A       A   ║   B   ║\n",
        " ╠═══════════════╦═══════╣       ║\n",
        " ║   D       D   ║   C   ║   B   ║\n",
        "I/O              ║       ║       ║\n",
        " ║   D       D   ║   C   ║   B   ║\n",
        " ║               ╠═══════╝       ║\n",
        " ║   D       D   ║   B       B   ║\n",
        " ╚═════════════ I/O ═════════════╝\n",
        "```\n",
        "\n",
        "### 2. Random vs. Dedicated Policies\n",
        "\n",
        "The answer comprises:\n",
        "\n",
        "- Total storage for dedicated policy.\n",
        "- Total storage for random policy.\n",
        "- Reasoning behind the totals."
      ]
    }
  ],
  "metadata": {
    "kernelspec": {
      "display_name": "Python 3",
      "language": "python",
      "name": "python3"
    },
    "language_info": {
      "codemirror_mode": {
        "name": "ipython",
        "version": 3
      },
      "file_extension": ".py",
      "mimetype": "text/x-python",
      "name": "python",
      "nbconvert_exporter": "python",
      "pygments_lexer": "ipython3",
      "version": "3.13.0"
    }
  },
  "nbformat": 4,
  "nbformat_minor": 4
}
